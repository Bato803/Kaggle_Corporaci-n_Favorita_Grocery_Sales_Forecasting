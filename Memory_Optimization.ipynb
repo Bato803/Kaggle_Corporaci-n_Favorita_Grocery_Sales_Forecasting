{
 "cells": [
  {
   "cell_type": "markdown",
   "metadata": {
    "deletable": true,
    "editable": true,
    "toc": true
   },
   "source": [
    "<h1>Table of Contents<span class=\"tocSkip\"></span></h1>\n",
    "<div class=\"toc\" style=\"margin-top: 1em;\"><ul class=\"toc-item\"><li><span><a href=\"#MLND-Final-Project---Memory-Optimization\" data-toc-modified-id=\"MLND-Final-Project---Memory-Optimization-1\"><span class=\"toc-item-num\">1&nbsp;&nbsp;</span>MLND Final Project - Memory Optimization</a></span></li><li><span><a href=\"#A-peek-into-data\" data-toc-modified-id=\"A-peek-into-data-2\"><span class=\"toc-item-num\">2&nbsp;&nbsp;</span>A peek into data</a></span></li><li><span><a href=\"#Data-Engineering\" data-toc-modified-id=\"Data-Engineering-3\"><span class=\"toc-item-num\">3&nbsp;&nbsp;</span>Data Engineering</a></span><ul class=\"toc-item\"><li><span><a href=\"#Analyze-data-type\" data-toc-modified-id=\"Analyze-data-type-3.1\"><span class=\"toc-item-num\">3.1&nbsp;&nbsp;</span>Analyze data type</a></span></li><li><span><a href=\"#Convert-data-type\" data-toc-modified-id=\"Convert-data-type-3.2\"><span class=\"toc-item-num\">3.2&nbsp;&nbsp;</span>Convert data type</a></span></li><li><span><a href=\"#Whole-training-set\" data-toc-modified-id=\"Whole-training-set-3.3\"><span class=\"toc-item-num\">3.3&nbsp;&nbsp;</span>Whole training set</a></span></li><li><span><a href=\"#Fast-loading-and-retrieving-data-frame\" data-toc-modified-id=\"Fast-loading-and-retrieving-data-frame-3.4\"><span class=\"toc-item-num\">3.4&nbsp;&nbsp;</span>Fast loading and retrieving data frame</a></span></li></ul></li><li><span><a href=\"#Result\" data-toc-modified-id=\"Result-4\"><span class=\"toc-item-num\">4&nbsp;&nbsp;</span>Result</a></span></li></ul></div>"
   ]
  },
  {
   "cell_type": "markdown",
   "metadata": {
    "deletable": true,
    "editable": true
   },
   "source": [
    "# MLND Final Project - Memory Optimization"
   ]
  },
  {
   "cell_type": "markdown",
   "metadata": {
    "deletable": true,
    "editable": true
   },
   "source": [
    "***This notebook aims at working out a solution for 1) loading dataset into memory at a manageable size 2) Fast retrieving dataframe from disk. ***"
   ]
  },
  {
   "cell_type": "markdown",
   "metadata": {
    "deletable": true,
    "editable": true
   },
   "source": [
    "# A peek into data "
   ]
  },
  {
   "cell_type": "code",
   "execution_count": 1,
   "metadata": {
    "collapsed": true,
    "deletable": true,
    "editable": true
   },
   "outputs": [],
   "source": [
    "import numpy as np \n",
    "import pandas as pd\n",
    "import feather\n",
    "import time"
   ]
  },
  {
   "cell_type": "code",
   "execution_count": 2,
   "metadata": {
    "collapsed": false,
    "deletable": true,
    "editable": true
   },
   "outputs": [
    {
     "name": "stdout",
     "output_type": "stream",
     "text": [
      "total 22767048\r\n",
      "-rw-r--r--  1 Bato  staff   473M Jan 28 22:28 X_test.feather\r\n",
      "-rw-r--r--  1 Bato  staff   473M Jan 28 22:27 X_val.feather\r\n",
      "-rw-r--r--@ 1 Bato  staff   476M Jan 22 16:03 df_2017.feather\r\n",
      "-rw-r--r--@ 1 Bato  staff   3.7G Jan 28 22:27 df_x_train.feather\r\n",
      "-rw-r--r--  1 Bato  staff   167M Jan 28 22:27 df_y_train.feather\r\n",
      "-rwxrwxrwx@ 1 Bato  staff    22K Oct 19 11:30 \u001b[31mholidays_events.csv\u001b[m\u001b[m\r\n",
      "-rwxrwxrwx@ 1 Bato  staff    99K Oct 19 11:30 \u001b[31mitems.csv\u001b[m\u001b[m\r\n",
      "-rwxrwxrwx@ 1 Bato  staff    20K Oct 19 11:30 \u001b[31moil.csv\u001b[m\u001b[m\r\n",
      "-rwxrwxrwx@ 1 Bato  staff    39M Oct 19 11:30 \u001b[31msample_submission.csv\u001b[m\u001b[m\r\n",
      "-rwxrwxrwx@ 1 Bato  staff   1.4K Oct 19 11:30 \u001b[31mstores.csv\u001b[m\u001b[m\r\n",
      "-rwxrwxrwx@ 1 Bato  staff   120M Oct 19 11:30 \u001b[31mtest.csv\u001b[m\u001b[m\r\n",
      "-rwxrwxrwx@ 1 Bato  staff   4.7G Oct 19 11:30 \u001b[31mtrain.csv\u001b[m\u001b[m\r\n",
      "-rw-r--r--@ 1 Bato  staff   786M Jan 21 22:32 train_raw.feather\r\n",
      "-rwxrwxrwx@ 1 Bato  staff   1.5M Oct 19 11:30 \u001b[31mtransactions.csv\u001b[m\u001b[m\r\n",
      "-rw-r--r--  1 Bato  staff    10M Jan 25 17:03 weights.npy\r\n",
      "-rw-r--r--  1 Bato  staff    21M Jan 28 22:27 y_val.feather\r\n"
     ]
    }
   ],
   "source": [
    "# Check the size of the files provided. \n",
    "!ls -lh ./data"
   ]
  },
  {
   "cell_type": "code",
   "execution_count": 3,
   "metadata": {
    "collapsed": false,
    "deletable": true,
    "editable": true
   },
   "outputs": [
    {
     "name": "stdout",
     "output_type": "stream",
     "text": [
      " 125497041 ./data/train.csv\n",
      " 3370465 ./data/test.csv\n"
     ]
    }
   ],
   "source": [
    "# Count the number of rows of train.csv and test.csv\n",
    "!wc -l ./data/train.csv\n",
    "!wc -l ./data/test.csv"
   ]
  },
  {
   "cell_type": "markdown",
   "metadata": {
    "deletable": true,
    "editable": true
   },
   "source": [
    "**Two Problems occur**:\n",
    "\n",
    "- The file `train.csv` has about 4.7G and a hundred twenty five million rows. Although the RAM of our AWS ec2 instance is about 60G, we still need to do some experiments on local computer or Kaggle's kernel, whose RAM are 8G and 16G respectively. Loading the dataset will take forever, and 4.7G is definitely not going to be a manageable size of local computer. \n",
    "\n",
    "- Before we feed data into our model, we need to manipulate and transform the original training set. Given that we might need to do lots of parameter tuning of our deep learning model, we don't want to manipulate on the original dataset every time we run the model. Therefore, we need to think of a way that enable us to save and retrieve the transformed dataset quickly so that we don't waste too much time in data preprocessing. "
   ]
  },
  {
   "cell_type": "markdown",
   "metadata": {
    "deletable": true,
    "editable": true
   },
   "source": [
    "# Data Engineering "
   ]
  },
  {
   "cell_type": "markdown",
   "metadata": {
    "deletable": true,
    "editable": true
   },
   "source": [
    "## Analyze data type"
   ]
  },
  {
   "cell_type": "markdown",
   "metadata": {
    "deletable": true,
    "editable": true
   },
   "source": [
    "*Before importing whole training set, let's first play around with a subset of training set, the size of the subset is about one fifth the whole training set. *\n",
    "\n",
    "Below are the steps we take:\n",
    "\n",
    "- Check memory consumption of each column. \n",
    "- Check the range of values in each column. \n",
    "- Check if we can convert datatype and data structure for each column. "
   ]
  },
  {
   "cell_type": "code",
   "execution_count": 4,
   "metadata": {
    "collapsed": false,
    "deletable": true,
    "editable": true
   },
   "outputs": [
    {
     "name": "stderr",
     "output_type": "stream",
     "text": [
      "/Users/Bato/anaconda/envs/aind-dog/lib/python3.5/site-packages/IPython/core/interactiveshell.py:2717: DtypeWarning: Columns (5) have mixed types. Specify dtype option on import or set low_memory=False.\n",
      "  interactivity=interactivity, compiler=compiler, result=result)\n"
     ]
    }
   ],
   "source": [
    "sub_train = pd.read_csv(\"./data/train.csv\", nrows=25497041)"
   ]
  },
  {
   "cell_type": "code",
   "execution_count": 5,
   "metadata": {
    "collapsed": false,
    "deletable": true,
    "editable": true
   },
   "outputs": [
    {
     "name": "stdout",
     "output_type": "stream",
     "text": [
      "id                      0\n",
      "date           2013-01-01\n",
      "store_nbr               1\n",
      "item_nbr            96995\n",
      "unit_sales          -1344\n",
      "onpromotion         False\n",
      "dtype: object\n",
      "===================================\n",
      "id               25497040\n",
      "date           2014-06-16\n",
      "store_nbr              54\n",
      "item_nbr          1909755\n",
      "unit_sales          12021\n",
      "onpromotion          True\n",
      "dtype: object\n",
      "===================================\n",
      "id               int64\n",
      "date            object\n",
      "store_nbr        int64\n",
      "item_nbr         int64\n",
      "unit_sales     float64\n",
      "onpromotion     object\n",
      "dtype: object\n"
     ]
    }
   ],
   "source": [
    "print(sub_train.min())\n",
    "print(\"=\"*35)\n",
    "print(sub_train.max())\n",
    "print(\"=\"*35)\n",
    "print(sub_train.dtypes)"
   ]
  },
  {
   "cell_type": "code",
   "execution_count": 6,
   "metadata": {
    "collapsed": false,
    "deletable": true,
    "editable": true
   },
   "outputs": [
    {
     "name": "stdout",
     "output_type": "stream",
     "text": [
      "The original memory usage of sub training set is 1167.1619873046875 MB\n"
     ]
    }
   ],
   "source": [
    "# Each columns memory comsumption in MB\n",
    "sub_train_original_memory = sub_train.memory_usage().sum()/(1024*1024)\n",
    "sub_train.memory_usage(index=True)/(1024*1024)\n",
    "print(\"The original memory usage of sub training set is {0} MB\".format(sub_train_original_memory))"
   ]
  },
  {
   "cell_type": "markdown",
   "metadata": {
    "deletable": true,
    "editable": true
   },
   "source": [
    ">Please check out my [interactive data analysis of supplementary data](https://github.com/Bato803/Sharpest-Mind/blob/master/Intuitive_Interactive_EDA_Plotly_Geojson.ipynb), we know from that analysis there are only 54 stores exists in this dataset. "
   ]
  },
  {
   "cell_type": "code",
   "execution_count": 47,
   "metadata": {
    "collapsed": false,
    "deletable": true,
    "editable": true,
    "scrolled": true
   },
   "outputs": [
    {
     "name": "stdout",
     "output_type": "stream",
     "text": [
      "The range of float16 is between %d and %d (-65504.0, 65504.0)\n",
      "The range of float32 is between %d and %d (-3.4028235e+38, 3.4028235e+38)\n"
     ]
    }
   ],
   "source": [
    "# Check value of floating point number\n",
    "\n",
    "min_value_16 = np.finfo(np.float16).min\n",
    "max_value_16 = np.finfo(np.float16).max\n",
    "min_value_32 = np.finfo(np.float32).min\n",
    "max_value_32 = np.finfo(np.float32).max\n",
    "\n",
    "print(\"The range of float16 is between %d and %d\", (min_value_16, max_value_16))\n",
    "print(\"The range of float32 is between %d and %d\", (min_value_32, max_value_32))"
   ]
  },
  {
   "cell_type": "code",
   "execution_count": 38,
   "metadata": {
    "collapsed": false,
    "deletable": true,
    "editable": true
   },
   "outputs": [
    {
     "data": {
      "text/plain": [
       "str"
      ]
     },
     "execution_count": 38,
     "metadata": {},
     "output_type": "execute_result"
    }
   ],
   "source": [
    "# The object type of 'date' is string. \n",
    "type(sub_train['date'][0])"
   ]
  },
  {
   "cell_type": "code",
   "execution_count": 7,
   "metadata": {
    "collapsed": false,
    "deletable": true,
    "editable": true
   },
   "outputs": [
    {
     "name": "stdout",
     "output_type": "stream",
     "text": [
      "If onpromotion has nan in it? Answer: True\n"
     ]
    },
    {
     "data": {
      "text/html": [
       "<div>\n",
       "<style scoped>\n",
       "    .dataframe tbody tr th:only-of-type {\n",
       "        vertical-align: middle;\n",
       "    }\n",
       "\n",
       "    .dataframe tbody tr th {\n",
       "        vertical-align: top;\n",
       "    }\n",
       "\n",
       "    .dataframe thead th {\n",
       "        text-align: right;\n",
       "    }\n",
       "</style>\n",
       "<table border=\"1\" class=\"dataframe\">\n",
       "  <thead>\n",
       "    <tr style=\"text-align: right;\">\n",
       "      <th></th>\n",
       "      <th>id</th>\n",
       "      <th>date</th>\n",
       "      <th>store_nbr</th>\n",
       "      <th>item_nbr</th>\n",
       "      <th>unit_sales</th>\n",
       "      <th>onpromotion</th>\n",
       "    </tr>\n",
       "  </thead>\n",
       "  <tbody>\n",
       "    <tr>\n",
       "      <th>25497036</th>\n",
       "      <td>25497036</td>\n",
       "      <td>2014-06-16</td>\n",
       "      <td>45</td>\n",
       "      <td>582863</td>\n",
       "      <td>61.623</td>\n",
       "      <td>False</td>\n",
       "    </tr>\n",
       "    <tr>\n",
       "      <th>25497037</th>\n",
       "      <td>25497037</td>\n",
       "      <td>2014-06-16</td>\n",
       "      <td>45</td>\n",
       "      <td>582864</td>\n",
       "      <td>82.156</td>\n",
       "      <td>False</td>\n",
       "    </tr>\n",
       "    <tr>\n",
       "      <th>25497038</th>\n",
       "      <td>25497038</td>\n",
       "      <td>2014-06-16</td>\n",
       "      <td>45</td>\n",
       "      <td>582865</td>\n",
       "      <td>50.117</td>\n",
       "      <td>False</td>\n",
       "    </tr>\n",
       "    <tr>\n",
       "      <th>25497039</th>\n",
       "      <td>25497039</td>\n",
       "      <td>2014-06-16</td>\n",
       "      <td>45</td>\n",
       "      <td>583795</td>\n",
       "      <td>16.082</td>\n",
       "      <td>False</td>\n",
       "    </tr>\n",
       "    <tr>\n",
       "      <th>25497040</th>\n",
       "      <td>25497040</td>\n",
       "      <td>2014-06-16</td>\n",
       "      <td>45</td>\n",
       "      <td>583797</td>\n",
       "      <td>34.520</td>\n",
       "      <td>False</td>\n",
       "    </tr>\n",
       "  </tbody>\n",
       "</table>\n",
       "</div>"
      ],
      "text/plain": [
       "                id        date  store_nbr  item_nbr  unit_sales onpromotion\n",
       "25497036  25497036  2014-06-16         45    582863      61.623       False\n",
       "25497037  25497037  2014-06-16         45    582864      82.156       False\n",
       "25497038  25497038  2014-06-16         45    582865      50.117       False\n",
       "25497039  25497039  2014-06-16         45    583795      16.082       False\n",
       "25497040  25497040  2014-06-16         45    583797      34.520       False"
      ]
     },
     "execution_count": 7,
     "metadata": {},
     "output_type": "execute_result"
    }
   ],
   "source": [
    "# The 'onpromostion' is actually boolean type variable. \n",
    "# But there is lots of nan in it. \n",
    "print(\"If onpromotion has nan in it? Answer: {0}\".format(sub_train.isnull().values.any()))\n",
    "sub_train.tail()"
   ]
  },
  {
   "cell_type": "markdown",
   "metadata": {
    "deletable": true,
    "editable": true
   },
   "source": [
    "- Column **`store_nbr`**: \n",
    "\n",
    "    - There are only 54 stores, but the original dataset is using int64 ($2^{-32}$ - $2^{32}$) to store number. We need to convert it to uint8, who ranges from $0$ to $255$. \n",
    "\n",
    "- Column **`Item_nbr`**: \n",
    "\n",
    "    - The value of this column ranging from about 96,995 to 1,909,755. The original data type int64 is about 2000 times larger than the maximum value of `item_nbr`. Therefore, int64 is too large for the values in this columns. Instead, uint32 should be a good choic( 0 --- 4,294,967,295 )\n",
    "\n",
    "- Column **`id`**:  \n",
    "\n",
    "    - The values range from 125,000,000 to 128,000,000. So, again, uint32 should be a good choice for id as well.\n",
    "    \n",
    "- Column **`unit_sales`**:  \n",
    "\n",
    "    - These values range from $-1344$ to $12021$. Technically speaking, float16 would be enough. But just in case there exist days that might have a large amount of sales (such as Christmas), we use float32 instead. \n",
    "    \n",
    "- Column **`onpromotion`**:\n",
    "\n",
    "    - This column's values are boolean variable. Therefore, we need to fill in those nan first. Then we convert them into uint8, where 0 represents false and 1 represents true. "
   ]
  },
  {
   "cell_type": "markdown",
   "metadata": {
    "deletable": true,
    "editable": true
   },
   "source": [
    "\n",
    "\n",
    "\n",
    "\n",
    "\n",
    "Split date into three columns - 'Year', 'Month', 'Day'. Becase if we look at the table above, date column is consuming the same amount of memory as those whose data type is int64. And if we change it into 3 columns with dtype uint8 or uint16, we could save a lot of memory."
   ]
  },
  {
   "cell_type": "code",
   "execution_count": 11,
   "metadata": {
    "collapsed": false,
    "deletable": true,
    "editable": true
   },
   "outputs": [
    {
     "data": {
      "text/html": [
       "<div>\n",
       "<style scoped>\n",
       "    .dataframe tbody tr th:only-of-type {\n",
       "        vertical-align: middle;\n",
       "    }\n",
       "\n",
       "    .dataframe tbody tr th {\n",
       "        vertical-align: top;\n",
       "    }\n",
       "\n",
       "    .dataframe thead th {\n",
       "        text-align: right;\n",
       "    }\n",
       "</style>\n",
       "<table border=\"1\" class=\"dataframe\">\n",
       "  <thead>\n",
       "    <tr style=\"text-align: right;\">\n",
       "      <th></th>\n",
       "      <th>id</th>\n",
       "      <th>date</th>\n",
       "      <th>store_nbr</th>\n",
       "      <th>item_nbr</th>\n",
       "      <th>unit_sales</th>\n",
       "      <th>onpromotion</th>\n",
       "    </tr>\n",
       "  </thead>\n",
       "  <tbody>\n",
       "    <tr>\n",
       "      <th>25497036</th>\n",
       "      <td>25497036</td>\n",
       "      <td>2014-06-16</td>\n",
       "      <td>45</td>\n",
       "      <td>582863</td>\n",
       "      <td>61.623</td>\n",
       "      <td>False</td>\n",
       "    </tr>\n",
       "    <tr>\n",
       "      <th>25497037</th>\n",
       "      <td>25497037</td>\n",
       "      <td>2014-06-16</td>\n",
       "      <td>45</td>\n",
       "      <td>582864</td>\n",
       "      <td>82.156</td>\n",
       "      <td>False</td>\n",
       "    </tr>\n",
       "    <tr>\n",
       "      <th>25497038</th>\n",
       "      <td>25497038</td>\n",
       "      <td>2014-06-16</td>\n",
       "      <td>45</td>\n",
       "      <td>582865</td>\n",
       "      <td>50.117</td>\n",
       "      <td>False</td>\n",
       "    </tr>\n",
       "    <tr>\n",
       "      <th>25497039</th>\n",
       "      <td>25497039</td>\n",
       "      <td>2014-06-16</td>\n",
       "      <td>45</td>\n",
       "      <td>583795</td>\n",
       "      <td>16.082</td>\n",
       "      <td>False</td>\n",
       "    </tr>\n",
       "    <tr>\n",
       "      <th>25497040</th>\n",
       "      <td>25497040</td>\n",
       "      <td>2014-06-16</td>\n",
       "      <td>45</td>\n",
       "      <td>583797</td>\n",
       "      <td>34.520</td>\n",
       "      <td>False</td>\n",
       "    </tr>\n",
       "  </tbody>\n",
       "</table>\n",
       "</div>"
      ],
      "text/plain": [
       "                id        date  store_nbr  item_nbr  unit_sales onpromotion\n",
       "25497036  25497036  2014-06-16         45    582863      61.623       False\n",
       "25497037  25497037  2014-06-16         45    582864      82.156       False\n",
       "25497038  25497038  2014-06-16         45    582865      50.117       False\n",
       "25497039  25497039  2014-06-16         45    583795      16.082       False\n",
       "25497040  25497040  2014-06-16         45    583797      34.520       False"
      ]
     },
     "execution_count": 11,
     "metadata": {},
     "output_type": "execute_result"
    }
   ],
   "source": [
    "sub_train.tail()"
   ]
  },
  {
   "cell_type": "markdown",
   "metadata": {
    "deletable": true,
    "editable": true
   },
   "source": [
    "## Convert data type"
   ]
  },
  {
   "cell_type": "code",
   "execution_count": 48,
   "metadata": {
    "collapsed": true,
    "deletable": true,
    "editable": true
   },
   "outputs": [],
   "source": [
    "sub_train['store_nbr'] = sub_train['store_nbr'].astype(\"uint8\")\n",
    "sub_train['item_nbr'] = sub_train['item_nbr'].astype('uint32')\n",
    "sub_train['id'] = sub_train['id'].astype('uint32')\n",
    "sub_train['unit_sales'] = sub_train['unit_sales'].astype('float32')"
   ]
  },
  {
   "cell_type": "code",
   "execution_count": 49,
   "metadata": {
    "collapsed": true,
    "deletable": true,
    "editable": true
   },
   "outputs": [],
   "source": [
    "sub_train['onpromotion'].fillna(0, inplace=True)\n",
    "sub_train['onpromotion'] = sub_train['onpromotion'].apply(lambda x:int(x==True))\n",
    "sub_train['onpromotion'] = sub_train['onpromotion'].astype('uint8')"
   ]
  },
  {
   "cell_type": "code",
   "execution_count": 50,
   "metadata": {
    "collapsed": false,
    "deletable": true,
    "editable": true
   },
   "outputs": [
    {
     "name": "stdout",
     "output_type": "stream",
     "text": [
      "If onpromotion has nan in it? Answer: False\n"
     ]
    }
   ],
   "source": [
    "# There should be no nan right now. \n",
    "print(\"If onpromotion has nan in it? Answer: {0}\".format(sub_train.isnull().values.any()))"
   ]
  },
  {
   "cell_type": "code",
   "execution_count": 51,
   "metadata": {
    "collapsed": false,
    "deletable": true,
    "editable": true
   },
   "outputs": [
    {
     "name": "stdout",
     "output_type": "stream",
     "text": [
      "Old memory usage is 1167.1619873046875 MB, new memory usage is 534.9492855072021 MB, 632.2127017974854 MB is saved\n"
     ]
    }
   ],
   "source": [
    "new_memory_usage = sub_train.memory_usage().sum()/(1024*1024)\n",
    "\n",
    "print(\"Old memory usage is {0} MB, new memory usage is {1} MB, {2} MB is saved\".format(sub_train_original_memory, \n",
    "                                                                                      new_memory_usage, \n",
    "                                                                                      sub_train_original_memory-new_memory_usage))"
   ]
  },
  {
   "cell_type": "code",
   "execution_count": 54,
   "metadata": {
    "collapsed": false,
    "deletable": true,
    "editable": true
   },
   "outputs": [
    {
     "data": {
      "text/plain": [
       "Index            0.000076\n",
       "id              97.263493\n",
       "date           194.526985\n",
       "store_nbr       24.315873\n",
       "item_nbr        97.263493\n",
       "unit_sales      97.263493\n",
       "onpromotion     24.315873\n",
       "dtype: float64"
      ]
     },
     "execution_count": 54,
     "metadata": {},
     "output_type": "execute_result"
    }
   ],
   "source": [
    "sub_train.memory_usage(index=True)/(1024*1024)"
   ]
  },
  {
   "cell_type": "markdown",
   "metadata": {
    "deletable": true,
    "editable": true
   },
   "source": [
    "## Whole training set"
   ]
  },
  {
   "cell_type": "markdown",
   "metadata": {
    "deletable": true,
    "editable": true
   },
   "source": [
    "We can change the data type while we loading the dataset."
   ]
  },
  {
   "cell_type": "code",
   "execution_count": 14,
   "metadata": {
    "collapsed": false,
    "deletable": true,
    "editable": true
   },
   "outputs": [
    {
     "name": "stdout",
     "output_type": "stream",
     "text": [
      "It tooks 12.468945602575937 minutes to run\n"
     ]
    }
   ],
   "source": [
    "converters = {\n",
    "        \"onpromotion\": (lambda p: int(p == \"True\")),\n",
    "        \"date\": (lambda d: pd.datetime.strptime(d, \"%Y-%m-%d\")) \n",
    "    }\n",
    "\n",
    "dtype_dict={ \"id\":np.uint32,\n",
    "            \"store_nbr\":np.uint8,\n",
    "            \"item_nbr\":np.uint32,\n",
    "            \"unit_sales\":np.float32,\n",
    "            # \"onpromotion\":np.uint32\n",
    "           }\n",
    "\n",
    "start_time = time.time()\n",
    "# Only load in data that's after 2016-04-16\n",
    "train = pd.read_csv(\"./data/train.csv\", dtype=dtype_dict, converters=converters, skiprows=range(1, 76458909)) \n",
    "print(\"It tooks {0} minutes to run\".format((time.time()-start_time)/60))"
   ]
  },
  {
   "cell_type": "code",
   "execution_count": 15,
   "metadata": {
    "collapsed": false,
    "deletable": true,
    "editable": true
   },
   "outputs": [
    {
     "name": "stdout",
     "output_type": "stream",
     "text": [
      "does onpromotion column has nan in it? Answer: False\n"
     ]
    }
   ],
   "source": [
    "print(\"does onpromotion column has nan in it? Answer: {0}\".format(train['onpromotion'].isnull().values.any()))"
   ]
  },
  {
   "cell_type": "markdown",
   "metadata": {
    "deletable": true,
    "editable": true
   },
   "source": [
    "- Change type of 'onpromotion' to 'uint8'.\n",
    "- Only use data started from 2016-8-15\n",
    "- Calculate the memory usage of the modified dataframe"
   ]
  },
  {
   "cell_type": "code",
   "execution_count": 131,
   "metadata": {
    "collapsed": false,
    "deletable": true,
    "editable": true
   },
   "outputs": [
    {
     "name": "stdout",
     "output_type": "stream",
     "text": [
      "The memory usage of the modified dataframe is 1071.5914249420166 MB\n"
     ]
    }
   ],
   "source": [
    "train['onpromotion'] = train['onpromotion'].astype('uint8')\n",
    "df_2017 = train.loc[train.date>=pd.datetime(2016,8,15)]\n",
    "df_2017_memory = df_2017.memory_usage().sum()/(1024*1024)\n",
    "print(\"The memory usage of the modified dataframe is {0} MB\".format(df_2017_memory))"
   ]
  },
  {
   "cell_type": "code",
   "execution_count": 132,
   "metadata": {
    "collapsed": false,
    "deletable": true,
    "editable": true
   },
   "outputs": [
    {
     "data": {
      "text/html": [
       "<div>\n",
       "<style scoped>\n",
       "    .dataframe tbody tr th:only-of-type {\n",
       "        vertical-align: middle;\n",
       "    }\n",
       "\n",
       "    .dataframe tbody tr th {\n",
       "        vertical-align: top;\n",
       "    }\n",
       "\n",
       "    .dataframe thead th {\n",
       "        text-align: right;\n",
       "    }\n",
       "</style>\n",
       "<table border=\"1\" class=\"dataframe\">\n",
       "  <thead>\n",
       "    <tr style=\"text-align: right;\">\n",
       "      <th></th>\n",
       "      <th>id</th>\n",
       "      <th>date</th>\n",
       "      <th>store_nbr</th>\n",
       "      <th>item_nbr</th>\n",
       "      <th>unit_sales</th>\n",
       "      <th>onpromotion</th>\n",
       "    </tr>\n",
       "  </thead>\n",
       "  <tbody>\n",
       "    <tr>\n",
       "      <th>11583297</th>\n",
       "      <td>88042205</td>\n",
       "      <td>2016-08-15</td>\n",
       "      <td>1</td>\n",
       "      <td>103665</td>\n",
       "      <td>1.0</td>\n",
       "      <td>0</td>\n",
       "    </tr>\n",
       "    <tr>\n",
       "      <th>11583298</th>\n",
       "      <td>88042206</td>\n",
       "      <td>2016-08-15</td>\n",
       "      <td>1</td>\n",
       "      <td>105574</td>\n",
       "      <td>1.0</td>\n",
       "      <td>0</td>\n",
       "    </tr>\n",
       "    <tr>\n",
       "      <th>11583299</th>\n",
       "      <td>88042207</td>\n",
       "      <td>2016-08-15</td>\n",
       "      <td>1</td>\n",
       "      <td>105575</td>\n",
       "      <td>19.0</td>\n",
       "      <td>0</td>\n",
       "    </tr>\n",
       "    <tr>\n",
       "      <th>11583300</th>\n",
       "      <td>88042208</td>\n",
       "      <td>2016-08-15</td>\n",
       "      <td>1</td>\n",
       "      <td>105577</td>\n",
       "      <td>1.0</td>\n",
       "      <td>0</td>\n",
       "    </tr>\n",
       "    <tr>\n",
       "      <th>11583301</th>\n",
       "      <td>88042209</td>\n",
       "      <td>2016-08-15</td>\n",
       "      <td>1</td>\n",
       "      <td>105693</td>\n",
       "      <td>1.0</td>\n",
       "      <td>0</td>\n",
       "    </tr>\n",
       "  </tbody>\n",
       "</table>\n",
       "</div>"
      ],
      "text/plain": [
       "                id       date  store_nbr  item_nbr  unit_sales  onpromotion\n",
       "11583297  88042205 2016-08-15          1    103665         1.0            0\n",
       "11583298  88042206 2016-08-15          1    105574         1.0            0\n",
       "11583299  88042207 2016-08-15          1    105575        19.0            0\n",
       "11583300  88042208 2016-08-15          1    105577         1.0            0\n",
       "11583301  88042209 2016-08-15          1    105693         1.0            0"
      ]
     },
     "execution_count": 132,
     "metadata": {},
     "output_type": "execute_result"
    }
   ],
   "source": [
    "df_2017.head()"
   ]
  },
  {
   "cell_type": "code",
   "execution_count": 133,
   "metadata": {
    "collapsed": false,
    "deletable": true,
    "editable": true
   },
   "outputs": [
    {
     "data": {
      "text/html": [
       "<div>\n",
       "<style scoped>\n",
       "    .dataframe tbody tr th:only-of-type {\n",
       "        vertical-align: middle;\n",
       "    }\n",
       "\n",
       "    .dataframe tbody tr th {\n",
       "        vertical-align: top;\n",
       "    }\n",
       "\n",
       "    .dataframe thead th {\n",
       "        text-align: right;\n",
       "    }\n",
       "</style>\n",
       "<table border=\"1\" class=\"dataframe\">\n",
       "  <thead>\n",
       "    <tr style=\"text-align: right;\">\n",
       "      <th></th>\n",
       "      <th>id</th>\n",
       "      <th>date</th>\n",
       "      <th>store_nbr</th>\n",
       "      <th>item_nbr</th>\n",
       "      <th>unit_sales</th>\n",
       "      <th>onpromotion</th>\n",
       "    </tr>\n",
       "  </thead>\n",
       "  <tbody>\n",
       "    <tr>\n",
       "      <th>49038127</th>\n",
       "      <td>125497035</td>\n",
       "      <td>2017-08-15</td>\n",
       "      <td>54</td>\n",
       "      <td>2089339</td>\n",
       "      <td>4.0</td>\n",
       "      <td>0</td>\n",
       "    </tr>\n",
       "    <tr>\n",
       "      <th>49038128</th>\n",
       "      <td>125497036</td>\n",
       "      <td>2017-08-15</td>\n",
       "      <td>54</td>\n",
       "      <td>2106464</td>\n",
       "      <td>1.0</td>\n",
       "      <td>1</td>\n",
       "    </tr>\n",
       "    <tr>\n",
       "      <th>49038129</th>\n",
       "      <td>125497037</td>\n",
       "      <td>2017-08-15</td>\n",
       "      <td>54</td>\n",
       "      <td>2110456</td>\n",
       "      <td>192.0</td>\n",
       "      <td>0</td>\n",
       "    </tr>\n",
       "    <tr>\n",
       "      <th>49038130</th>\n",
       "      <td>125497038</td>\n",
       "      <td>2017-08-15</td>\n",
       "      <td>54</td>\n",
       "      <td>2113914</td>\n",
       "      <td>198.0</td>\n",
       "      <td>1</td>\n",
       "    </tr>\n",
       "    <tr>\n",
       "      <th>49038131</th>\n",
       "      <td>125497039</td>\n",
       "      <td>2017-08-15</td>\n",
       "      <td>54</td>\n",
       "      <td>2116416</td>\n",
       "      <td>2.0</td>\n",
       "      <td>0</td>\n",
       "    </tr>\n",
       "  </tbody>\n",
       "</table>\n",
       "</div>"
      ],
      "text/plain": [
       "                 id       date  store_nbr  item_nbr  unit_sales  onpromotion\n",
       "49038127  125497035 2017-08-15         54   2089339         4.0            0\n",
       "49038128  125497036 2017-08-15         54   2106464         1.0            1\n",
       "49038129  125497037 2017-08-15         54   2110456       192.0            0\n",
       "49038130  125497038 2017-08-15         54   2113914       198.0            1\n",
       "49038131  125497039 2017-08-15         54   2116416         2.0            0"
      ]
     },
     "execution_count": 133,
     "metadata": {},
     "output_type": "execute_result"
    }
   ],
   "source": [
    "df_2017.tail()"
   ]
  },
  {
   "cell_type": "markdown",
   "metadata": {
    "deletable": true,
    "editable": true
   },
   "source": [
    "## Fast loading and retrieving data frame"
   ]
  },
  {
   "cell_type": "markdown",
   "metadata": {
    "deletable": true,
    "editable": true
   },
   "source": [
    "Feather format enables very fast read and write access for dataframes, read more about it [here](https://blog.rstudio.com/2016/03/29/feather/)"
   ]
  },
  {
   "cell_type": "code",
   "execution_count": 136,
   "metadata": {
    "collapsed": false,
    "deletable": true,
    "editable": true
   },
   "outputs": [],
   "source": [
    "path = \"./data/train_raw.feather\"\n",
    "feather.write_dataframe(df_2017, path)"
   ]
  },
  {
   "cell_type": "code",
   "execution_count": 137,
   "metadata": {
    "collapsed": false,
    "deletable": true,
    "editable": true
   },
   "outputs": [
    {
     "name": "stdout",
     "output_type": "stream",
     "text": [
      "It tooks 2.4868059158325195 seconds to load\n"
     ]
    }
   ],
   "source": [
    "start_time = time.time()\n",
    "try_load = feather.read_dataframe(path)\n",
    "print(\"It tooks {0} seconds to load\".format((time.time()-start_time)))"
   ]
  },
  {
   "cell_type": "code",
   "execution_count": 138,
   "metadata": {
    "collapsed": false,
    "deletable": true,
    "editable": true
   },
   "outputs": [
    {
     "data": {
      "text/html": [
       "<div>\n",
       "<style scoped>\n",
       "    .dataframe tbody tr th:only-of-type {\n",
       "        vertical-align: middle;\n",
       "    }\n",
       "\n",
       "    .dataframe tbody tr th {\n",
       "        vertical-align: top;\n",
       "    }\n",
       "\n",
       "    .dataframe thead th {\n",
       "        text-align: right;\n",
       "    }\n",
       "</style>\n",
       "<table border=\"1\" class=\"dataframe\">\n",
       "  <thead>\n",
       "    <tr style=\"text-align: right;\">\n",
       "      <th></th>\n",
       "      <th>id</th>\n",
       "      <th>date</th>\n",
       "      <th>store_nbr</th>\n",
       "      <th>item_nbr</th>\n",
       "      <th>unit_sales</th>\n",
       "      <th>onpromotion</th>\n",
       "    </tr>\n",
       "  </thead>\n",
       "  <tbody>\n",
       "    <tr>\n",
       "      <th>0</th>\n",
       "      <td>88042205</td>\n",
       "      <td>2016-08-15</td>\n",
       "      <td>1</td>\n",
       "      <td>103665</td>\n",
       "      <td>1.0</td>\n",
       "      <td>0</td>\n",
       "    </tr>\n",
       "    <tr>\n",
       "      <th>1</th>\n",
       "      <td>88042206</td>\n",
       "      <td>2016-08-15</td>\n",
       "      <td>1</td>\n",
       "      <td>105574</td>\n",
       "      <td>1.0</td>\n",
       "      <td>0</td>\n",
       "    </tr>\n",
       "    <tr>\n",
       "      <th>2</th>\n",
       "      <td>88042207</td>\n",
       "      <td>2016-08-15</td>\n",
       "      <td>1</td>\n",
       "      <td>105575</td>\n",
       "      <td>19.0</td>\n",
       "      <td>0</td>\n",
       "    </tr>\n",
       "    <tr>\n",
       "      <th>3</th>\n",
       "      <td>88042208</td>\n",
       "      <td>2016-08-15</td>\n",
       "      <td>1</td>\n",
       "      <td>105577</td>\n",
       "      <td>1.0</td>\n",
       "      <td>0</td>\n",
       "    </tr>\n",
       "    <tr>\n",
       "      <th>4</th>\n",
       "      <td>88042209</td>\n",
       "      <td>2016-08-15</td>\n",
       "      <td>1</td>\n",
       "      <td>105693</td>\n",
       "      <td>1.0</td>\n",
       "      <td>0</td>\n",
       "    </tr>\n",
       "  </tbody>\n",
       "</table>\n",
       "</div>"
      ],
      "text/plain": [
       "         id       date  store_nbr  item_nbr  unit_sales  onpromotion\n",
       "0  88042205 2016-08-15          1    103665         1.0            0\n",
       "1  88042206 2016-08-15          1    105574         1.0            0\n",
       "2  88042207 2016-08-15          1    105575        19.0            0\n",
       "3  88042208 2016-08-15          1    105577         1.0            0\n",
       "4  88042209 2016-08-15          1    105693         1.0            0"
      ]
     },
     "execution_count": 138,
     "metadata": {},
     "output_type": "execute_result"
    }
   ],
   "source": [
    "try_load.head()"
   ]
  },
  {
   "cell_type": "code",
   "execution_count": 139,
   "metadata": {
    "collapsed": false,
    "deletable": true,
    "editable": true
   },
   "outputs": [
    {
     "data": {
      "text/html": [
       "<div>\n",
       "<style scoped>\n",
       "    .dataframe tbody tr th:only-of-type {\n",
       "        vertical-align: middle;\n",
       "    }\n",
       "\n",
       "    .dataframe tbody tr th {\n",
       "        vertical-align: top;\n",
       "    }\n",
       "\n",
       "    .dataframe thead th {\n",
       "        text-align: right;\n",
       "    }\n",
       "</style>\n",
       "<table border=\"1\" class=\"dataframe\">\n",
       "  <thead>\n",
       "    <tr style=\"text-align: right;\">\n",
       "      <th></th>\n",
       "      <th>id</th>\n",
       "      <th>date</th>\n",
       "      <th>store_nbr</th>\n",
       "      <th>item_nbr</th>\n",
       "      <th>unit_sales</th>\n",
       "      <th>onpromotion</th>\n",
       "    </tr>\n",
       "  </thead>\n",
       "  <tbody>\n",
       "    <tr>\n",
       "      <th>37454830</th>\n",
       "      <td>125497035</td>\n",
       "      <td>2017-08-15</td>\n",
       "      <td>54</td>\n",
       "      <td>2089339</td>\n",
       "      <td>4.0</td>\n",
       "      <td>0</td>\n",
       "    </tr>\n",
       "    <tr>\n",
       "      <th>37454831</th>\n",
       "      <td>125497036</td>\n",
       "      <td>2017-08-15</td>\n",
       "      <td>54</td>\n",
       "      <td>2106464</td>\n",
       "      <td>1.0</td>\n",
       "      <td>1</td>\n",
       "    </tr>\n",
       "    <tr>\n",
       "      <th>37454832</th>\n",
       "      <td>125497037</td>\n",
       "      <td>2017-08-15</td>\n",
       "      <td>54</td>\n",
       "      <td>2110456</td>\n",
       "      <td>192.0</td>\n",
       "      <td>0</td>\n",
       "    </tr>\n",
       "    <tr>\n",
       "      <th>37454833</th>\n",
       "      <td>125497038</td>\n",
       "      <td>2017-08-15</td>\n",
       "      <td>54</td>\n",
       "      <td>2113914</td>\n",
       "      <td>198.0</td>\n",
       "      <td>1</td>\n",
       "    </tr>\n",
       "    <tr>\n",
       "      <th>37454834</th>\n",
       "      <td>125497039</td>\n",
       "      <td>2017-08-15</td>\n",
       "      <td>54</td>\n",
       "      <td>2116416</td>\n",
       "      <td>2.0</td>\n",
       "      <td>0</td>\n",
       "    </tr>\n",
       "  </tbody>\n",
       "</table>\n",
       "</div>"
      ],
      "text/plain": [
       "                 id       date  store_nbr  item_nbr  unit_sales  onpromotion\n",
       "37454830  125497035 2017-08-15         54   2089339         4.0            0\n",
       "37454831  125497036 2017-08-15         54   2106464         1.0            1\n",
       "37454832  125497037 2017-08-15         54   2110456       192.0            0\n",
       "37454833  125497038 2017-08-15         54   2113914       198.0            1\n",
       "37454834  125497039 2017-08-15         54   2116416         2.0            0"
      ]
     },
     "execution_count": 139,
     "metadata": {},
     "output_type": "execute_result"
    }
   ],
   "source": [
    "try_load.tail()"
   ]
  },
  {
   "cell_type": "markdown",
   "metadata": {
    "deletable": true,
    "editable": true
   },
   "source": [
    "* <span style=\"color:blue\">We can see that, at the very first, it takes 12 minutes to load the dataset. But after saving it at feather format and discarding information from 2016-04-16 to 2016-08-14 , the time needed to load dataset reduced to 2.4 seconds. And that's 300 times faster compared with previous data loading process!</span>"
   ]
  },
  {
   "cell_type": "markdown",
   "metadata": {
    "deletable": true,
    "editable": true
   },
   "source": [
    "# Result"
   ]
  },
  {
   "cell_type": "markdown",
   "metadata": {
    "deletable": true,
    "editable": true
   },
   "source": [
    "***From our experiement we knew that, by converting data type we could save around 54% of our memory. Although we can further reduce our memory consumption by spliting 'date' column into 'year', 'month' and 'day' three integer columns, we did not modify the 'date' column because we would utilize the timestamp extensive during feature engineering. ***\n",
    "\n",
    "\n",
    "***The original training set size is 4.7G, by utilizing our strategy, it ends up at 2.1G. But we do not plan to use all the records back to 2013 to train our model, which will be evaluated on the fourth quarter of 2017. Therefore, we only include data starting at 2016-08-15 to be in our training set. <span style=\"color:blue\">And the size of this part of dataset ends up at 1.1 GB </span>***\n",
    "\n",
    "***In order not to repeat the same process again and again during training and testing, we save the modified dataframe in feather format, a fast on-disk format for data frames for R and Python, powered by Apache Arrow. By utilizing this technique, <span style=\"color:blue\"> loading in the dataset only takes 2.4 second, which is 300 times faster!</span> ***"
   ]
  },
  {
   "cell_type": "code",
   "execution_count": null,
   "metadata": {
    "collapsed": true,
    "deletable": true,
    "editable": true
   },
   "outputs": [],
   "source": []
  }
 ],
 "metadata": {
  "kernelspec": {
   "display_name": "Python 3",
   "language": "python",
   "name": "python3"
  },
  "language_info": {
   "codemirror_mode": {
    "name": "ipython",
    "version": 3
   },
   "file_extension": ".py",
   "mimetype": "text/x-python",
   "name": "python",
   "nbconvert_exporter": "python",
   "pygments_lexer": "ipython3",
   "version": "3.5.3"
  },
  "toc": {
   "nav_menu": {},
   "number_sections": true,
   "sideBar": true,
   "skip_h1_title": false,
   "toc_cell": true,
   "toc_position": {
    "height": "782px",
    "left": "0px",
    "right": "1236.23px",
    "top": "107px",
    "width": "186px"
   },
   "toc_section_display": "block",
   "toc_window_display": false
  }
 },
 "nbformat": 4,
 "nbformat_minor": 2
}
